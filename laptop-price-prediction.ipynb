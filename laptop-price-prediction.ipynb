{
 "cells": [
  {
   "cell_type": "code",
   "execution_count": 7,
   "metadata": {
    "_cell_guid": "b1076dfc-b9ad-4769-8c92-a6c4dae69d19",
    "_uuid": "8f2839f25d086af736a60e9eeb907d3b93b6e0e5",
    "execution": {
     "iopub.execute_input": "2021-10-29T15:01:29.673996Z",
     "iopub.status.busy": "2021-10-29T15:01:29.673600Z",
     "iopub.status.idle": "2021-10-29T15:01:29.755030Z",
     "shell.execute_reply": "2021-10-29T15:01:29.753742Z",
     "shell.execute_reply.started": "2021-10-29T15:01:29.673896Z"
    }
   },
   "outputs": [],
   "source": [
    "import pandas as pd\n",
    "\n"
   ]
  },
  {
   "cell_type": "code",
   "execution_count": 9,
   "metadata": {},
   "outputs": [
    {
     "data": {
      "text/html": [
       "<div>\n",
       "<style scoped>\n",
       "    .dataframe tbody tr th:only-of-type {\n",
       "        vertical-align: middle;\n",
       "    }\n",
       "\n",
       "    .dataframe tbody tr th {\n",
       "        vertical-align: top;\n",
       "    }\n",
       "\n",
       "    .dataframe thead th {\n",
       "        text-align: right;\n",
       "    }\n",
       "</style>\n",
       "<table border=\"1\" class=\"dataframe\">\n",
       "  <thead>\n",
       "    <tr style=\"text-align: right;\">\n",
       "      <th></th>\n",
       "      <th>laptop_ID</th>\n",
       "      <th>Company</th>\n",
       "      <th>Product</th>\n",
       "      <th>TypeName</th>\n",
       "      <th>Inches</th>\n",
       "      <th>ScreenResolution</th>\n",
       "      <th>Cpu</th>\n",
       "      <th>Ram</th>\n",
       "      <th>Memory</th>\n",
       "      <th>Gpu</th>\n",
       "      <th>OpSys</th>\n",
       "      <th>Weight</th>\n",
       "      <th>Price_euros</th>\n",
       "    </tr>\n",
       "  </thead>\n",
       "  <tbody>\n",
       "    <tr>\n",
       "      <td>0</td>\n",
       "      <td>1</td>\n",
       "      <td>Apple</td>\n",
       "      <td>MacBook Pro</td>\n",
       "      <td>Ultrabook</td>\n",
       "      <td>13.3</td>\n",
       "      <td>IPS Panel Retina Display 2560x1600</td>\n",
       "      <td>Intel Core i5 2.3GHz</td>\n",
       "      <td>8GB</td>\n",
       "      <td>128GB SSD</td>\n",
       "      <td>Intel Iris Plus Graphics 640</td>\n",
       "      <td>macOS</td>\n",
       "      <td>1.37kg</td>\n",
       "      <td>1339.69</td>\n",
       "    </tr>\n",
       "    <tr>\n",
       "      <td>1</td>\n",
       "      <td>2</td>\n",
       "      <td>Apple</td>\n",
       "      <td>Macbook Air</td>\n",
       "      <td>Ultrabook</td>\n",
       "      <td>13.3</td>\n",
       "      <td>1440x900</td>\n",
       "      <td>Intel Core i5 1.8GHz</td>\n",
       "      <td>8GB</td>\n",
       "      <td>128GB Flash Storage</td>\n",
       "      <td>Intel HD Graphics 6000</td>\n",
       "      <td>macOS</td>\n",
       "      <td>1.34kg</td>\n",
       "      <td>898.94</td>\n",
       "    </tr>\n",
       "    <tr>\n",
       "      <td>2</td>\n",
       "      <td>3</td>\n",
       "      <td>HP</td>\n",
       "      <td>250 G6</td>\n",
       "      <td>Notebook</td>\n",
       "      <td>15.6</td>\n",
       "      <td>Full HD 1920x1080</td>\n",
       "      <td>Intel Core i5 7200U 2.5GHz</td>\n",
       "      <td>8GB</td>\n",
       "      <td>256GB SSD</td>\n",
       "      <td>Intel HD Graphics 620</td>\n",
       "      <td>No OS</td>\n",
       "      <td>1.86kg</td>\n",
       "      <td>575.00</td>\n",
       "    </tr>\n",
       "    <tr>\n",
       "      <td>3</td>\n",
       "      <td>4</td>\n",
       "      <td>Apple</td>\n",
       "      <td>MacBook Pro</td>\n",
       "      <td>Ultrabook</td>\n",
       "      <td>15.4</td>\n",
       "      <td>IPS Panel Retina Display 2880x1800</td>\n",
       "      <td>Intel Core i7 2.7GHz</td>\n",
       "      <td>16GB</td>\n",
       "      <td>512GB SSD</td>\n",
       "      <td>AMD Radeon Pro 455</td>\n",
       "      <td>macOS</td>\n",
       "      <td>1.83kg</td>\n",
       "      <td>2537.45</td>\n",
       "    </tr>\n",
       "    <tr>\n",
       "      <td>4</td>\n",
       "      <td>5</td>\n",
       "      <td>Apple</td>\n",
       "      <td>MacBook Pro</td>\n",
       "      <td>Ultrabook</td>\n",
       "      <td>13.3</td>\n",
       "      <td>IPS Panel Retina Display 2560x1600</td>\n",
       "      <td>Intel Core i5 3.1GHz</td>\n",
       "      <td>8GB</td>\n",
       "      <td>256GB SSD</td>\n",
       "      <td>Intel Iris Plus Graphics 650</td>\n",
       "      <td>macOS</td>\n",
       "      <td>1.37kg</td>\n",
       "      <td>1803.60</td>\n",
       "    </tr>\n",
       "  </tbody>\n",
       "</table>\n",
       "</div>"
      ],
      "text/plain": [
       "   laptop_ID Company      Product   TypeName  Inches  \\\n",
       "0          1   Apple  MacBook Pro  Ultrabook    13.3   \n",
       "1          2   Apple  Macbook Air  Ultrabook    13.3   \n",
       "2          3      HP       250 G6   Notebook    15.6   \n",
       "3          4   Apple  MacBook Pro  Ultrabook    15.4   \n",
       "4          5   Apple  MacBook Pro  Ultrabook    13.3   \n",
       "\n",
       "                     ScreenResolution                         Cpu   Ram  \\\n",
       "0  IPS Panel Retina Display 2560x1600        Intel Core i5 2.3GHz   8GB   \n",
       "1                            1440x900        Intel Core i5 1.8GHz   8GB   \n",
       "2                   Full HD 1920x1080  Intel Core i5 7200U 2.5GHz   8GB   \n",
       "3  IPS Panel Retina Display 2880x1800        Intel Core i7 2.7GHz  16GB   \n",
       "4  IPS Panel Retina Display 2560x1600        Intel Core i5 3.1GHz   8GB   \n",
       "\n",
       "                Memory                           Gpu  OpSys  Weight  \\\n",
       "0            128GB SSD  Intel Iris Plus Graphics 640  macOS  1.37kg   \n",
       "1  128GB Flash Storage        Intel HD Graphics 6000  macOS  1.34kg   \n",
       "2            256GB SSD         Intel HD Graphics 620  No OS  1.86kg   \n",
       "3            512GB SSD            AMD Radeon Pro 455  macOS  1.83kg   \n",
       "4            256GB SSD  Intel Iris Plus Graphics 650  macOS  1.37kg   \n",
       "\n",
       "   Price_euros  \n",
       "0      1339.69  \n",
       "1       898.94  \n",
       "2       575.00  \n",
       "3      2537.45  \n",
       "4      1803.60  "
      ]
     },
     "execution_count": 9,
     "metadata": {},
     "output_type": "execute_result"
    }
   ],
   "source": [
    "df=pd.read_csv('laptop_price.csv',encoding='latin-1')\n",
    "df.head()"
   ]
  },
  {
   "cell_type": "code",
   "execution_count": 10,
   "metadata": {
    "execution": {
     "iopub.execute_input": "2021-10-29T15:01:29.758380Z",
     "iopub.status.busy": "2021-10-29T15:01:29.757155Z",
     "iopub.status.idle": "2021-10-29T15:01:29.775477Z",
     "shell.execute_reply": "2021-10-29T15:01:29.774195Z",
     "shell.execute_reply.started": "2021-10-29T15:01:29.758322Z"
    }
   },
   "outputs": [
    {
     "data": {
      "text/plain": [
       "Company              object\n",
       "Product              object\n",
       "TypeName             object\n",
       "Inches              float64\n",
       "ScreenResolution     object\n",
       "Cpu                  object\n",
       "Ram                  object\n",
       "Memory               object\n",
       "Gpu                  object\n",
       "OpSys                object\n",
       "Weight               object\n",
       "Price_euros         float64\n",
       "dtype: object"
      ]
     },
     "execution_count": 10,
     "metadata": {},
     "output_type": "execute_result"
    }
   ],
   "source": [
    "df.drop(['laptop_ID'],inplace=True,axis=1)\n",
    "df.dtypes"
   ]
  },
  {
   "cell_type": "code",
   "execution_count": 11,
   "metadata": {
    "execution": {
     "iopub.execute_input": "2021-10-29T15:01:29.778972Z",
     "iopub.status.busy": "2021-10-29T15:01:29.777542Z",
     "iopub.status.idle": "2021-10-29T15:01:29.791432Z",
     "shell.execute_reply": "2021-10-29T15:01:29.789991Z",
     "shell.execute_reply.started": "2021-10-29T15:01:29.778909Z"
    }
   },
   "outputs": [
    {
     "data": {
      "text/plain": [
       "Company             0\n",
       "Product             0\n",
       "TypeName            0\n",
       "Inches              0\n",
       "ScreenResolution    0\n",
       "Cpu                 0\n",
       "Ram                 0\n",
       "Memory              0\n",
       "Gpu                 0\n",
       "OpSys               0\n",
       "Weight              0\n",
       "Price_euros         0\n",
       "dtype: int64"
      ]
     },
     "execution_count": 11,
     "metadata": {},
     "output_type": "execute_result"
    }
   ],
   "source": [
    "df.isna().sum()"
   ]
  },
  {
   "cell_type": "code",
   "execution_count": 12,
   "metadata": {
    "execution": {
     "iopub.execute_input": "2021-10-29T15:01:29.794506Z",
     "iopub.status.busy": "2021-10-29T15:01:29.793657Z",
     "iopub.status.idle": "2021-10-29T15:01:29.809134Z",
     "shell.execute_reply": "2021-10-29T15:01:29.808314Z",
     "shell.execute_reply.started": "2021-10-29T15:01:29.794449Z"
    }
   },
   "outputs": [
    {
     "data": {
      "text/plain": [
       "8GB     619\n",
       "4GB     375\n",
       "16GB    200\n",
       "6GB      41\n",
       "12GB     25\n",
       "2GB      22\n",
       "32GB     17\n",
       "24GB      3\n",
       "64GB      1\n",
       "Name: Ram, dtype: int64"
      ]
     },
     "execution_count": 12,
     "metadata": {},
     "output_type": "execute_result"
    }
   ],
   "source": [
    "df.Ram.value_counts()"
   ]
  },
  {
   "cell_type": "code",
   "execution_count": 13,
   "metadata": {
    "execution": {
     "iopub.execute_input": "2021-10-29T15:01:29.811171Z",
     "iopub.status.busy": "2021-10-29T15:01:29.810608Z",
     "iopub.status.idle": "2021-10-29T15:01:29.828204Z",
     "shell.execute_reply": "2021-10-29T15:01:29.827352Z",
     "shell.execute_reply.started": "2021-10-29T15:01:29.811083Z"
    }
   },
   "outputs": [],
   "source": [
    "df.Ram = df.Ram.map(lambda x: x.rstrip('GB'))\n",
    "df['Ram']=df['Ram'].astype('int32')\n",
    "df.Weight = df.Weight.map(lambda x: x.rstrip('kg'))\n",
    "df['Weight']=df['Weight'].astype('float64')"
   ]
  },
  {
   "cell_type": "code",
   "execution_count": 14,
   "metadata": {
    "execution": {
     "iopub.execute_input": "2021-10-29T15:01:29.831017Z",
     "iopub.status.busy": "2021-10-29T15:01:29.830360Z",
     "iopub.status.idle": "2021-10-29T15:01:29.843726Z",
     "shell.execute_reply": "2021-10-29T15:01:29.842714Z",
     "shell.execute_reply.started": "2021-10-29T15:01:29.830960Z"
    }
   },
   "outputs": [
    {
     "data": {
      "text/plain": [
       "Company              object\n",
       "Product              object\n",
       "TypeName             object\n",
       "Inches              float64\n",
       "ScreenResolution     object\n",
       "Cpu                  object\n",
       "Ram                   int32\n",
       "Memory               object\n",
       "Gpu                  object\n",
       "OpSys                object\n",
       "Weight              float64\n",
       "Price_euros         float64\n",
       "dtype: object"
      ]
     },
     "execution_count": 14,
     "metadata": {},
     "output_type": "execute_result"
    }
   ],
   "source": [
    "df.dtypes"
   ]
  },
  {
   "cell_type": "code",
   "execution_count": 15,
   "metadata": {
    "execution": {
     "iopub.execute_input": "2021-10-29T15:01:29.846009Z",
     "iopub.status.busy": "2021-10-29T15:01:29.845293Z",
     "iopub.status.idle": "2021-10-29T15:01:29.861388Z",
     "shell.execute_reply": "2021-10-29T15:01:29.860204Z",
     "shell.execute_reply.started": "2021-10-29T15:01:29.845962Z"
    }
   },
   "outputs": [
    {
     "data": {
      "text/plain": [
       "Intel Core i5 7200U 2.5GHz     190\n",
       "Intel Core i7 7700HQ 2.8GHz    146\n",
       "Intel Core i7 7500U 2.7GHz     134\n",
       "Intel Core i7 8550U 1.8GHz      73\n",
       "Intel Core i5 8250U 1.6GHz      72\n",
       "                              ... \n",
       "Intel Core i3 6006U 2.2GHz       1\n",
       "Intel Core M 7Y30 1.0GHz         1\n",
       "Intel Core i7 6920HQ 2.9GHz      1\n",
       "Intel Core i7 7700HQ 2.7GHz      1\n",
       "Intel Core i5 7200U 2.50GHz      1\n",
       "Name: Cpu, Length: 118, dtype: int64"
      ]
     },
     "execution_count": 15,
     "metadata": {},
     "output_type": "execute_result"
    }
   ],
   "source": [
    "df.Cpu.value_counts()"
   ]
  },
  {
   "cell_type": "code",
   "execution_count": 16,
   "metadata": {
    "execution": {
     "iopub.execute_input": "2021-10-29T15:01:29.864213Z",
     "iopub.status.busy": "2021-10-29T15:01:29.863476Z",
     "iopub.status.idle": "2021-10-29T15:01:29.875663Z",
     "shell.execute_reply": "2021-10-29T15:01:29.874177Z",
     "shell.execute_reply.started": "2021-10-29T15:01:29.864154Z"
    }
   },
   "outputs": [
    {
     "data": {
      "text/plain": [
       "256GB SSD                        412\n",
       "1TB HDD                          223\n",
       "500GB HDD                        132\n",
       "512GB SSD                        118\n",
       "128GB SSD +  1TB HDD              94\n",
       "128GB SSD                         76\n",
       "256GB SSD +  1TB HDD              73\n",
       "32GB Flash Storage                38\n",
       "2TB HDD                           16\n",
       "64GB Flash Storage                15\n",
       "1TB SSD                           14\n",
       "512GB SSD +  1TB HDD              14\n",
       "256GB SSD +  2TB HDD              10\n",
       "1.0TB Hybrid                       9\n",
       "256GB Flash Storage                8\n",
       "16GB Flash Storage                 7\n",
       "32GB SSD                           6\n",
       "180GB SSD                          5\n",
       "128GB Flash Storage                4\n",
       "512GB SSD +  2TB HDD               3\n",
       "16GB SSD                           3\n",
       "256GB SSD +  500GB HDD             2\n",
       "128GB SSD +  2TB HDD               2\n",
       "1TB SSD +  1TB HDD                 2\n",
       "512GB Flash Storage                2\n",
       "256GB SSD +  256GB SSD             2\n",
       "256GB SSD +  1.0TB Hybrid          1\n",
       "1TB HDD +  1TB HDD                 1\n",
       "64GB SSD                           1\n",
       "512GB SSD +  512GB SSD             1\n",
       "512GB SSD +  256GB SSD             1\n",
       "508GB Hybrid                       1\n",
       "128GB HDD                          1\n",
       "1.0TB HDD                          1\n",
       "512GB SSD +  1.0TB Hybrid          1\n",
       "8GB SSD                            1\n",
       "64GB Flash Storage +  1TB HDD      1\n",
       "32GB HDD                           1\n",
       "240GB SSD                          1\n",
       "Name: Memory, dtype: int64"
      ]
     },
     "execution_count": 16,
     "metadata": {},
     "output_type": "execute_result"
    }
   ],
   "source": [
    "df.Memory.value_counts()"
   ]
  },
  {
   "cell_type": "code",
   "execution_count": 17,
   "metadata": {
    "execution": {
     "iopub.execute_input": "2021-10-29T15:01:29.878942Z",
     "iopub.status.busy": "2021-10-29T15:01:29.877616Z",
     "iopub.status.idle": "2021-10-29T15:01:29.893433Z",
     "shell.execute_reply": "2021-10-29T15:01:29.892220Z",
     "shell.execute_reply.started": "2021-10-29T15:01:29.878883Z"
    }
   },
   "outputs": [
    {
     "data": {
      "text/plain": [
       "Full HD 1920x1080                                507\n",
       "1366x768                                         281\n",
       "IPS Panel Full HD 1920x1080                      230\n",
       "IPS Panel Full HD / Touchscreen 1920x1080         53\n",
       "Full HD / Touchscreen 1920x1080                   47\n",
       "1600x900                                          23\n",
       "Touchscreen 1366x768                              16\n",
       "Quad HD+ / Touchscreen 3200x1800                  15\n",
       "IPS Panel 4K Ultra HD 3840x2160                   12\n",
       "IPS Panel 4K Ultra HD / Touchscreen 3840x2160     11\n",
       "4K Ultra HD / Touchscreen 3840x2160               10\n",
       "IPS Panel 1366x768                                 7\n",
       "4K Ultra HD 3840x2160                              7\n",
       "Touchscreen 2560x1440                              7\n",
       "IPS Panel Quad HD+ / Touchscreen 3200x1800         6\n",
       "IPS Panel Retina Display 2304x1440                 6\n",
       "IPS Panel Retina Display 2560x1600                 6\n",
       "Touchscreen 2256x1504                              6\n",
       "IPS Panel Touchscreen 2560x1440                    5\n",
       "IPS Panel Touchscreen 1920x1200                    4\n",
       "1440x900                                           4\n",
       "IPS Panel 2560x1440                                4\n",
       "IPS Panel Retina Display 2880x1800                 4\n",
       "Quad HD+ 3200x1800                                 3\n",
       "IPS Panel Touchscreen 1366x768                     3\n",
       "Touchscreen 2400x1600                              3\n",
       "IPS Panel Quad HD+ 2560x1440                       3\n",
       "2560x1440                                          3\n",
       "1920x1080                                          3\n",
       "IPS Panel Full HD 2160x1440                        2\n",
       "IPS Panel Quad HD+ 3200x1800                       2\n",
       "IPS Panel Touchscreen / 4K Ultra HD 3840x2160      2\n",
       "IPS Panel Full HD 1920x1200                        1\n",
       "IPS Panel Touchscreen 2400x1600                    1\n",
       "IPS Panel Full HD 2560x1440                        1\n",
       "IPS Panel Full HD 1366x768                         1\n",
       "IPS Panel Retina Display 2736x1824                 1\n",
       "Touchscreen / 4K Ultra HD 3840x2160                1\n",
       "Touchscreen / Quad HD+ 3200x1800                   1\n",
       "Touchscreen / Full HD 1920x1080                    1\n",
       "Name: ScreenResolution, dtype: int64"
      ]
     },
     "execution_count": 17,
     "metadata": {},
     "output_type": "execute_result"
    }
   ],
   "source": [
    "df.ScreenResolution.value_counts()"
   ]
  },
  {
   "cell_type": "code",
   "execution_count": 18,
   "metadata": {
    "execution": {
     "iopub.execute_input": "2021-10-29T15:01:29.897398Z",
     "iopub.status.busy": "2021-10-29T15:01:29.896285Z",
     "iopub.status.idle": "2021-10-29T15:01:29.908376Z",
     "shell.execute_reply": "2021-10-29T15:01:29.907204Z",
     "shell.execute_reply.started": "2021-10-29T15:01:29.897331Z"
    }
   },
   "outputs": [],
   "source": [
    "df[\"CpuSpeed\"] = df.Cpu.map(lambda x: x[-6:])\n",
    "df[\"CpuSpeed\"] = df.CpuSpeed.map(lambda x: x.rstrip('GHz').lstrip('P6U0'))\n",
    "df['CpuSpeed']=df['CpuSpeed'].astype('float64')"
   ]
  },
  {
   "cell_type": "code",
   "execution_count": 19,
   "metadata": {
    "execution": {
     "iopub.execute_input": "2021-10-29T15:01:29.911641Z",
     "iopub.status.busy": "2021-10-29T15:01:29.910445Z",
     "iopub.status.idle": "2021-10-29T15:01:29.926710Z",
     "shell.execute_reply": "2021-10-29T15:01:29.925566Z",
     "shell.execute_reply.started": "2021-10-29T15:01:29.911584Z"
    }
   },
   "outputs": [
    {
     "data": {
      "text/plain": [
       "Price_euros    1.000000\n",
       "Ram            0.743007\n",
       "CpuSpeed       0.419933\n",
       "Weight         0.210370\n",
       "Inches         0.068197\n",
       "Name: Price_euros, dtype: float64"
      ]
     },
     "execution_count": 19,
     "metadata": {},
     "output_type": "execute_result"
    }
   ],
   "source": [
    "corr_matrix = df.corr()\n",
    "corr_matrix['Price_euros'].sort_values(ascending=False)"
   ]
  },
  {
   "cell_type": "code",
   "execution_count": 20,
   "metadata": {
    "execution": {
     "iopub.execute_input": "2021-10-29T15:01:29.930780Z",
     "iopub.status.busy": "2021-10-29T15:01:29.929424Z",
     "iopub.status.idle": "2021-10-29T15:01:32.125150Z",
     "shell.execute_reply": "2021-10-29T15:01:32.123947Z",
     "shell.execute_reply.started": "2021-10-29T15:01:29.930724Z"
    }
   },
   "outputs": [
    {
     "data": {
      "text/plain": [
       "array([[<matplotlib.axes._subplots.AxesSubplot object at 0x0000025DEB29EA88>,\n",
       "        <matplotlib.axes._subplots.AxesSubplot object at 0x0000025DEB3C0D48>,\n",
       "        <matplotlib.axes._subplots.AxesSubplot object at 0x0000025DEB448F08>,\n",
       "        <matplotlib.axes._subplots.AxesSubplot object at 0x0000025DEB486048>,\n",
       "        <matplotlib.axes._subplots.AxesSubplot object at 0x0000025DEB4BC148>],\n",
       "       [<matplotlib.axes._subplots.AxesSubplot object at 0x0000025DEB4F4248>,\n",
       "        <matplotlib.axes._subplots.AxesSubplot object at 0x0000025DEB52D348>,\n",
       "        <matplotlib.axes._subplots.AxesSubplot object at 0x0000025DEB56BF88>,\n",
       "        <matplotlib.axes._subplots.AxesSubplot object at 0x0000025DEB574088>,\n",
       "        <matplotlib.axes._subplots.AxesSubplot object at 0x0000025DEB5A9248>],\n",
       "       [<matplotlib.axes._subplots.AxesSubplot object at 0x0000025DEB60E788>,\n",
       "        <matplotlib.axes._subplots.AxesSubplot object at 0x0000025DEB6458C8>,\n",
       "        <matplotlib.axes._subplots.AxesSubplot object at 0x0000025DEB67E9C8>,\n",
       "        <matplotlib.axes._subplots.AxesSubplot object at 0x0000025DEB6B6AC8>,\n",
       "        <matplotlib.axes._subplots.AxesSubplot object at 0x0000025DEB6EFB48>],\n",
       "       [<matplotlib.axes._subplots.AxesSubplot object at 0x0000025DEB726C48>,\n",
       "        <matplotlib.axes._subplots.AxesSubplot object at 0x0000025DEB75FD48>,\n",
       "        <matplotlib.axes._subplots.AxesSubplot object at 0x0000025DEB798E88>,\n",
       "        <matplotlib.axes._subplots.AxesSubplot object at 0x0000025DEB7CEF88>,\n",
       "        <matplotlib.axes._subplots.AxesSubplot object at 0x0000025DEB809088>],\n",
       "       [<matplotlib.axes._subplots.AxesSubplot object at 0x0000025DEB8401C8>,\n",
       "        <matplotlib.axes._subplots.AxesSubplot object at 0x0000025DEB87B2C8>,\n",
       "        <matplotlib.axes._subplots.AxesSubplot object at 0x0000025DEB8B23C8>,\n",
       "        <matplotlib.axes._subplots.AxesSubplot object at 0x0000025DEB8EA508>,\n",
       "        <matplotlib.axes._subplots.AxesSubplot object at 0x0000025DEB924608>]],\n",
       "      dtype=object)"
      ]
     },
     "execution_count": 20,
     "metadata": {},
     "output_type": "execute_result"
    }
   ],
   "source": [
    "from pandas.plotting import scatter_matrix\n",
    "att=['Price_euros','Ram','CpuSpeed','Weight','Inches']\n",
    "scatter_matrix(df[att],figsize=(12,8))"
   ]
  },
  {
   "cell_type": "code",
   "execution_count": 21,
   "metadata": {
    "execution": {
     "iopub.execute_input": "2021-10-29T15:01:32.128195Z",
     "iopub.status.busy": "2021-10-29T15:01:32.127071Z",
     "iopub.status.idle": "2021-10-29T15:01:32.138115Z",
     "shell.execute_reply": "2021-10-29T15:01:32.136998Z",
     "shell.execute_reply.started": "2021-10-29T15:01:32.128000Z"
    }
   },
   "outputs": [],
   "source": [
    "df.drop(['Company','Product','TypeName','ScreenResolution','Cpu','Memory','Gpu','OpSys'],axis=1,inplace=True)"
   ]
  },
  {
   "cell_type": "code",
   "execution_count": 22,
   "metadata": {
    "execution": {
     "iopub.execute_input": "2021-10-29T15:01:32.141077Z",
     "iopub.status.busy": "2021-10-29T15:01:32.139832Z",
     "iopub.status.idle": "2021-10-29T15:01:33.208772Z",
     "shell.execute_reply": "2021-10-29T15:01:33.207631Z",
     "shell.execute_reply.started": "2021-10-29T15:01:32.141009Z"
    }
   },
   "outputs": [],
   "source": [
    "from sklearn.model_selection import train_test_split\n",
    "import numpy as np\n",
    "train_set,test_set = train_test_split(df,test_size=0.2)\n",
    "train_y=train_set[\"Price_euros\"]\n",
    "train_x=train_set.drop([\"Price_euros\"], axis=1)\n",
    "test_y=test_set[\"Price_euros\"]\n",
    "test_x=test_set.drop([\"Price_euros\"], axis=1)\n",
    "train_set_num=train_x.select_dtypes(include=[np.number])\n",
    "train_set_ob=train_x.select_dtypes(include=[object])\n",
    "num_column=list(train_set_num.columns)\n",
    "ob_column=list(train_set_ob.columns)\n",
    "from sklearn.pipeline import Pipeline\n",
    "from sklearn.preprocessing import StandardScaler\n",
    "from sklearn.preprocessing import OrdinalEncoder\n",
    "from sklearn.compose import ColumnTransformer\n",
    "\n",
    "num_pipeline = Pipeline([\n",
    "        ('std_scaler', StandardScaler()),\n",
    "    ])\n",
    "\n",
    "full_pipeline = ColumnTransformer([\n",
    "        (\"num\", num_pipeline, num_column),\n",
    "        (\"cat\", OrdinalEncoder(), ob_column),\n",
    "    ])\n",
    "\n",
    "train_x = full_pipeline.fit_transform(train_x)\n",
    "test_x = full_pipeline.fit_transform(test_x)"
   ]
  },
  {
   "cell_type": "code",
   "execution_count": 24,
   "metadata": {},
   "outputs": [
    {
     "name": "stdout",
     "output_type": "stream",
     "text": [
      "Collecting xgboost\n",
      "  Downloading https://files.pythonhosted.org/packages/a2/8a/dbfcab37ea93951fa85e5746de0fc7378b2a4c99a32ddad36a7fb504ed57/xgboost-1.5.0-py3-none-win_amd64.whl (106.6MB)\n",
      "Requirement already satisfied: numpy in c:\\users\\u sri pardhiv\\anaconda3\\lib\\site-packages (from xgboost) (1.19.5)\n",
      "Requirement already satisfied: scipy in c:\\users\\u sri pardhiv\\anaconda3\\lib\\site-packages (from xgboost) (1.3.1)\n",
      "Installing collected packages: xgboost\n",
      "Successfully installed xgboost-1.5.0\n"
     ]
    }
   ],
   "source": [
    "!pip install xgboost"
   ]
  },
  {
   "cell_type": "code",
   "execution_count": 25,
   "metadata": {
    "execution": {
     "iopub.execute_input": "2021-10-29T15:01:33.212994Z",
     "iopub.status.busy": "2021-10-29T15:01:33.212037Z",
     "iopub.status.idle": "2021-10-29T15:01:33.536678Z",
     "shell.execute_reply": "2021-10-29T15:01:33.535568Z",
     "shell.execute_reply.started": "2021-10-29T15:01:33.212918Z"
    }
   },
   "outputs": [],
   "source": [
    "from sklearn.metrics import r2_score\n",
    "from sklearn.metrics import mean_squared_error\n",
    "from sklearn.model_selection import cross_val_score\n",
    "from sklearn.linear_model import LinearRegression, SGDRegressor, Ridge, Lasso, ElasticNet\n",
    "from sklearn.model_selection import cross_val_score\n",
    "from sklearn.ensemble import GradientBoostingRegressor\n",
    "import xgboost as xgb\n",
    "\n",
    "def eval(model,test_x,test_y):\n",
    "    ymul=model.predict(test_x)\n",
    "    print(\"Model score: %.4f\" % model.score(test_x,test_y))  # This is just shorthand for the R2 score\n",
    "    print(\"Mean absolute error: %.4f\" % mean_squared_error(ymul,test_y))\n",
    "    print(\"R2-score: %.4f\" % r2_score(test_y , ymul) )\n",
    "    score=np.sqrt(-cross_val_score(model, train_x, train_y, scoring=\"neg_mean_squared_error\", cv = 10))\n",
    "    print(\"RMSE score: {:.4f} ({:.4f})\\n\".format(score.mean(), score.std()))"
   ]
  },
  {
   "cell_type": "code",
   "execution_count": 26,
   "metadata": {
    "execution": {
     "iopub.execute_input": "2021-10-29T15:01:33.538413Z",
     "iopub.status.busy": "2021-10-29T15:01:33.538085Z",
     "iopub.status.idle": "2021-10-29T15:01:33.582581Z",
     "shell.execute_reply": "2021-10-29T15:01:33.581684Z",
     "shell.execute_reply.started": "2021-10-29T15:01:33.538380Z"
    }
   },
   "outputs": [
    {
     "name": "stdout",
     "output_type": "stream",
     "text": [
      "Model score: 0.5834\n",
      "Mean absolute error: 187194.9751\n",
      "R2-score: 0.5834\n",
      "RMSE score: 441.7733 (48.0957)\n",
      "\n"
     ]
    }
   ],
   "source": [
    "ridge_reg=Ridge(alpha=0.9,solver=\"cholesky\")\n",
    "ridge_reg.fit(train_x,train_y)\n",
    "eval(ridge_reg,test_x,test_y)"
   ]
  },
  {
   "cell_type": "code",
   "execution_count": 27,
   "metadata": {
    "execution": {
     "iopub.execute_input": "2021-10-29T15:01:33.585274Z",
     "iopub.status.busy": "2021-10-29T15:01:33.584252Z",
     "iopub.status.idle": "2021-10-29T15:01:35.760184Z",
     "shell.execute_reply": "2021-10-29T15:01:35.758719Z",
     "shell.execute_reply.started": "2021-10-29T15:01:33.585201Z"
    }
   },
   "outputs": [
    {
     "name": "stderr",
     "output_type": "stream",
     "text": [
      "C:\\Users\\U sri pardhiv\\Anaconda3\\lib\\site-packages\\sklearn\\ensemble\\forest.py:245: FutureWarning: The default value of n_estimators will change from 10 in version 0.20 to 100 in 0.22.\n",
      "  \"10 in version 0.20 to 100 in 0.22.\", FutureWarning)\n"
     ]
    },
    {
     "name": "stdout",
     "output_type": "stream",
     "text": [
      "Model score: 0.7161\n",
      "Mean absolute error: 127572.7340\n",
      "R2-score: 0.7161\n",
      "RMSE score: 388.9313 (49.1962)\n",
      "\n"
     ]
    }
   ],
   "source": [
    "from sklearn.ensemble import RandomForestRegressor\n",
    "\n",
    "rmdtree_reg = RandomForestRegressor(max_depth=5)\n",
    "rmdtree_reg.fit(train_x,train_y)\n",
    "eval(rmdtree_reg,test_x,test_y)"
   ]
  },
  {
   "cell_type": "code",
   "execution_count": 28,
   "metadata": {
    "execution": {
     "iopub.execute_input": "2021-10-29T15:01:35.762285Z",
     "iopub.status.busy": "2021-10-29T15:01:35.761780Z",
     "iopub.status.idle": "2021-10-29T15:01:36.461299Z",
     "shell.execute_reply": "2021-10-29T15:01:36.460215Z",
     "shell.execute_reply.started": "2021-10-29T15:01:35.762239Z"
    }
   },
   "outputs": [
    {
     "name": "stdout",
     "output_type": "stream",
     "text": [
      "Model score: 0.6611\n",
      "Mean absolute error: 152276.1635\n",
      "R2-score: 0.6611\n",
      "RMSE score: 439.3392 (43.2617)\n",
      "\n"
     ]
    }
   ],
   "source": [
    "from sklearn.ensemble import AdaBoostRegressor\n",
    "\n",
    "regr = AdaBoostRegressor(random_state=0, n_estimators=100)\n",
    "regr.fit(train_x,train_y)\n",
    "eval(regr,test_x,test_y)"
   ]
  },
  {
   "cell_type": "code",
   "execution_count": 29,
   "metadata": {
    "execution": {
     "iopub.execute_input": "2021-10-29T15:01:36.463286Z",
     "iopub.status.busy": "2021-10-29T15:01:36.462898Z",
     "iopub.status.idle": "2021-10-29T15:01:47.063057Z",
     "shell.execute_reply": "2021-10-29T15:01:47.061822Z",
     "shell.execute_reply.started": "2021-10-29T15:01:36.463239Z"
    }
   },
   "outputs": [
    {
     "name": "stdout",
     "output_type": "stream",
     "text": [
      "Model score: 0.5711\n",
      "Mean absolute error: 192748.9711\n",
      "R2-score: 0.5711\n",
      "RMSE score: 395.0333 (48.0973)\n",
      "\n"
     ]
    }
   ],
   "source": [
    "model_xgb = xgb.XGBRegressor(colsample_bytree=0.4, gamma=0.05, \n",
    "                             learning_rate=0.05, max_depth=3, \n",
    "                             min_child_weight=1.78, n_estimators=2200,\n",
    "                             reg_alpha=0.46, reg_lambda=0.85,\n",
    "                             subsample=0.52, verbosity=0,\n",
    "                             random_state =7, nthread = -1)\n",
    "model_xgb.fit(train_x,train_y)\n",
    "eval(model_xgb,test_x,test_y)"
   ]
  },
  {
   "cell_type": "code",
   "execution_count": null,
   "metadata": {},
   "outputs": [],
   "source": []
  }
 ],
 "metadata": {
  "kernelspec": {
   "display_name": "Python 3",
   "language": "python",
   "name": "python3"
  },
  "language_info": {
   "codemirror_mode": {
    "name": "ipython",
    "version": 3
   },
   "file_extension": ".py",
   "mimetype": "text/x-python",
   "name": "python",
   "nbconvert_exporter": "python",
   "pygments_lexer": "ipython3",
   "version": "3.7.4"
  }
 },
 "nbformat": 4,
 "nbformat_minor": 4
}
